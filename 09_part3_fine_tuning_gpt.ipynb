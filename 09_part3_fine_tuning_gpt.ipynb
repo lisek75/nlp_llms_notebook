{
 "cells": [
  {
   "cell_type": "markdown",
   "id": "12934dbc-ff4f-4dfc-8cc1-d92cc8826cf2",
   "metadata": {},
   "source": [
    "# 🔍 Predicting Item Prices from Descriptions (Part 3)\n",
    "\n",
    "# 🔧 **Part 3: Fine-Tuning GPT-4o Mini**\n",
    "\n",
    "In this final phase, we take GPT-4o Mini and fine-tune it on our curated dataset of item descriptions and prices.\n",
    "- 🎯 Objective: Fine-tune GPT-4o Mini on our dataset to improve price prediction accuracy.\n",
    "- 📊 We’ll Compare: Its fine-tuned performance vs. zero-shot results, traditional ML, frontier LLMs, and Ed's human estimates.\n",
    "- ❓ Key Question: Can GPT-4o Mini beat its own zero-shot baseline — and close the gap with bigger models?\n",
    "\n",
    "⚙️ Hardware: ✅ CPU is sufficient — no GPU required\n",
    "\n",
    "🛠️ Requirements: 🔑 Open API Key\n",
    "\n",
    "📢 Find more LLM notebooks on my GitHub repository: https://github.com/lisek75/nlp_llms_notebook"
   ]
  },
  {
   "cell_type": "code",
   "execution_count": 25,
   "id": "5809630f-d3ea-41df-86ec-9cbf59a46f5c",
   "metadata": {},
   "outputs": [],
   "source": [
    "# imports\n",
    "\n",
    "import os, sys, pickle, importlib, json, re\n",
    "from dotenv import load_dotenv\n",
    "from openai import OpenAI"
   ]
  },
  {
   "cell_type": "code",
   "execution_count": 2,
   "id": "4120c84d-c310-4d31-9e1f-1549ea4a4186",
   "metadata": {},
   "outputs": [],
   "source": [
    "load_dotenv(override=True)\n",
    "\n",
    "openai_api_key = os.getenv('OPENAI_API_KEY')\n",
    "if not openai_api_key: print(\"❌ OPENAI_API_KEY is missing\")\n",
    "    \n",
    "openai = OpenAI(api_key=openai_api_key)"
   ]
  },
  {
   "cell_type": "markdown",
   "id": "31d3aa97-68a8-4f71-a43f-107f7c8553c5",
   "metadata": {},
   "source": [
    "# 📥 Load Preprocessed Dataset"
   ]
  },
  {
   "cell_type": "code",
   "execution_count": null,
   "id": "4f9994bf-b3ec-40c5-8d84-12ca4aba728b",
   "metadata": {},
   "outputs": [],
   "source": [
    "# # If you don’t already have the `.pkl` files generated in Part 1,\n",
    "# # you can load the dataset directly from the Hugging Face Hub.\n",
    "\n",
    "# # Load dataset from Hugging Face\n",
    "# from datasets import load_dataset\n",
    "# dataset = load_dataset(\"Lizk75/pricer-data\")\n",
    "\n",
    "# # Create data folder if it doesn't exist\n",
    "# os.makedirs(\"data\", exist_ok=True)\n",
    "\n",
    "# # Save train split\n",
    "# with open(\"data/train.pkl\", \"wb\") as f:\n",
    "#     pickle.dump(dataset[\"train\"], f)\n",
    "\n",
    "# # Save test split\n",
    "# with open(\"data/test.pkl\", \"wb\") as f:\n",
    "#     pickle.dump(dataset[\"test\"], f)"
   ]
  },
  {
   "cell_type": "code",
   "execution_count": 3,
   "id": "f3a7b255-04b9-4558-906c-8edb79b7edee",
   "metadata": {},
   "outputs": [],
   "source": [
    "# Add helpers path and import Item class\n",
    "sys.path.append('./helpers')\n",
    "from helpers import items\n",
    "from helpers.items import Item\n",
    "\n",
    "# Load the pickled datasets\n",
    "with open('data/train.pkl', 'rb') as file:\n",
    "    train = pickle.load(file)\n",
    "    \n",
    "with open('data/test.pkl', 'rb') as file:\n",
    "    test = pickle.load(file)"
   ]
  },
  {
   "cell_type": "markdown",
   "id": "b85d86d0-b6b1-49cd-9ef0-9214c1267199",
   "metadata": {},
   "source": [
    "# 🛠️ Step 1 : Data Preparation"
   ]
  },
  {
   "cell_type": "code",
   "execution_count": 4,
   "id": "686097bf-f7ad-40d0-99c5-85fdccb3687e",
   "metadata": {},
   "outputs": [],
   "source": [
    "# OpenAI recommends fine-tuning with populations of 50-100 examples\n",
    "\n",
    "ft_train = train[:100]\n",
    "ft_validation = train[100:150]"
   ]
  },
  {
   "cell_type": "markdown",
   "id": "d3ba760d-467a-4cd9-8d3f-e6ce84273610",
   "metadata": {},
   "source": [
    "To fine-tune GPT-4o-mini, OpenAI requires training data in **.jsonl format**. \n",
    "\n",
    "`make_jsonl` converts our chat data :\n",
    "\n",
    "from \n",
    "\n",
    "[\n",
    "  {\"role\": \"system\", \"content\": \"You estimate prices of items. Reply only with the price, no explanation\"},\n",
    "  {\"role\": \"user\", \"content\": \"How much is this laptop worth?\"},\n",
    "  {\"role\": \"assistant\", \"content\": \"Price is $999.00\"}\n",
    "]\n",
    "\n",
    "into the .jsonl format \n",
    "\n",
    "{\"messages\": [{\"role\": \"system\", \"content\": \"You estimate prices of items. Reply only with the price, no explanation\"}, {\"role\": \"user\", \"content\": \"How much is this laptop worth?\"}, {\"role\": \"assistant\", \"content\": \"Price is $999.00\"}]}\n"
   ]
  },
  {
   "cell_type": "code",
   "execution_count": 5,
   "id": "26b35a98-e730-4397-91a6-e7c14c358302",
   "metadata": {},
   "outputs": [
    {
     "data": {
      "text/plain": [
       "[{'role': 'system',\n",
       "  'content': 'You estimate prices of items. Reply only with the price, no explanation'},\n",
       " {'role': 'user',\n",
       "  'content': 'How much does this cost?\\n\\nMICR Toner International Compatible Universal Magnetic Ink Cartridge Replacement for HP CF281A 81A Laser Printers M604 M605 M606 M630 MFP\\nPrint Checks Like a Pro with MTI Universal MICR Products MTI Universal HP 81A CF281A MICR Toner Cartridge • Quantity 1 Black Toner Cartridge• Magnetic Toner for Check Printing. • Yield 10.5k pages based on 5% coverage, prints 31.5k checks @ 3 per page. Please Note actual yield may vary depending upon the amount of print on the page and other factors. • Compatible Printers the MTI universal HP CF281A MICR cartridge is designed for HP Laser Printers M604dn M604n M605dh M605dn'},\n",
       " {'role': 'assistant', 'content': 'Price is $175.00'}]"
      ]
     },
     "execution_count": 5,
     "metadata": {},
     "output_type": "execute_result"
    }
   ],
   "source": [
    "def messages_for(item):\n",
    "    system_message = \"You estimate prices of items. Reply only with the price, no explanation\"\n",
    "    user_prompt = item.test_prompt().replace(\" to the nearest dollar\",\"\").replace(\"\\n\\nPrice is $\",\"\")\n",
    "    return [\n",
    "        {\"role\": \"system\", \"content\": system_message},\n",
    "        {\"role\": \"user\", \"content\": user_prompt},\n",
    "        {\"role\": \"assistant\", \"content\": f\"Price is ${item.price:.2f}\"}\n",
    "    ]\n",
    "\n",
    "messages_for(train[0])"
   ]
  },
  {
   "cell_type": "code",
   "execution_count": 6,
   "id": "b30a1d0b-c558-4bb9-ae9e-590403cab228",
   "metadata": {},
   "outputs": [
    {
     "name": "stdout",
     "output_type": "stream",
     "text": [
      "{\"messages\": [{\"role\": \"system\", \"content\": \"You estimate prices of items. Reply only with the price, no explanation\"}, {\"role\": \"user\", \"content\": \"How much does this cost?\\n\\nMICR Toner International Compatible Universal Magnetic Ink Cartridge Replacement for HP CF281A 81A Laser Printers M604 M605 M606 M630 MFP\\nPrint Checks Like a Pro with MTI Universal MICR Products MTI Universal HP 81A CF281A MICR Toner Cartridge \\u2022 Quantity 1 Black Toner Cartridge\\u2022 Magnetic Toner for Check Printing. \\u2022 Yield 10.5k pages based on 5% coverage, prints 31.5k checks @ 3 per page. Please Note actual yield may vary depending upon the amount of print on the page and other factors. \\u2022 Compatible Printers the MTI universal HP CF281A MICR cartridge is designed for HP Laser Printers M604dn M604n M605dh M605dn\"}, {\"role\": \"assistant\", \"content\": \"Price is $175.00\"}]}\n"
     ]
    }
   ],
   "source": [
    "def make_jsonl(items):\n",
    "    result = \"\"\n",
    "    for item in items:\n",
    "        messages = messages_for(item)\n",
    "        messages_str = json.dumps(messages)\n",
    "        result += '{\"messages\": ' + messages_str +'}\\n'\n",
    "    return result.strip()\n",
    "\n",
    "print(make_jsonl(train[:1]))"
   ]
  },
  {
   "cell_type": "code",
   "execution_count": 7,
   "id": "6b86b912-7a8b-4412-89cc-d8a5e39bca63",
   "metadata": {},
   "outputs": [],
   "source": [
    "# Convert the items into jsonl and write them to a file\n",
    "\n",
    "def write_jsonl(items, filename):\n",
    "    with open(filename, \"w\") as f:\n",
    "        jsonl = make_jsonl(items)\n",
    "        f.write(jsonl)"
   ]
  },
  {
   "cell_type": "code",
   "execution_count": 8,
   "id": "ae42986d-ab02-4a11-aa0c-ede9c63ec7a2",
   "metadata": {},
   "outputs": [],
   "source": [
    "write_jsonl(ft_train, \"data/ft_train.jsonl\")\n",
    "write_jsonl(ft_validation, \"data/ft_val.jsonl\")"
   ]
  },
  {
   "cell_type": "code",
   "execution_count": 9,
   "id": "b9bed22d-73ad-4820-a983-cbdccd8dbbc8",
   "metadata": {},
   "outputs": [],
   "source": [
    "with open(\"data/ft_train.jsonl\", \"rb\") as f:\n",
    "    train_file = openai.files.create(file=f, purpose=\"fine-tune\")\n",
    "with open(\"data/ft_val.jsonl\", \"rb\") as f:\n",
    "    validation_file = openai.files.create(file=f, purpose=\"fine-tune\")"
   ]
  },
  {
   "cell_type": "code",
   "execution_count": 10,
   "id": "1e6c6ce8-6600-4068-9ec5-32c6428ce9ea",
   "metadata": {},
   "outputs": [
    {
     "data": {
      "text/plain": [
       "FileObject(id='file-8QyMKQHRPekaJDjgZTh6eh', bytes=95369, created_at=1743708517, filename='ft_train.jsonl', object='file', purpose='fine-tune', status='processed', expires_at=None, status_details=None)"
      ]
     },
     "execution_count": 10,
     "metadata": {},
     "output_type": "execute_result"
    }
   ],
   "source": [
    "train_file"
   ]
  },
  {
   "cell_type": "code",
   "execution_count": 11,
   "id": "26943fad-4301-4bb4-97e8-be52a9743322",
   "metadata": {},
   "outputs": [
    {
     "data": {
      "text/plain": [
       "FileObject(id='file-8KEv5pCninPnppTBJmkG9C', bytes=47821, created_at=1743708518, filename='ft_val.jsonl', object='file', purpose='fine-tune', status='processed', expires_at=None, status_details=None)"
      ]
     },
     "execution_count": 11,
     "metadata": {},
     "output_type": "execute_result"
    }
   ],
   "source": [
    "validation_file"
   ]
  },
  {
   "cell_type": "markdown",
   "id": "edb0a3ec-1607-4c5b-ab06-852f951cae8b",
   "metadata": {},
   "source": [
    "# 🚀 Step 2: Run Fine-Tuning & Monitor with wandb\n",
    "We will use https://wandb.ai to monitor the training runs\n",
    "\n",
    "1- Create an API key in wandb\n",
    "\n",
    "2- Add this key in OpenAI dashboard https://platform.openai.com/account/organization"
   ]
  },
  {
   "cell_type": "code",
   "execution_count": 12,
   "id": "59f552fe-5e80-4742-94a8-5492556a6543",
   "metadata": {},
   "outputs": [],
   "source": [
    "wandb_integration = {\"type\": \"wandb\", \"wandb\": {\"project\": \"gpt-pricer\"}}"
   ]
  },
  {
   "cell_type": "code",
   "execution_count": 13,
   "id": "144088d7-7c30-439a-9282-1e6096c181ea",
   "metadata": {},
   "outputs": [
    {
     "data": {
      "text/plain": [
       "FineTuningJob(id='ftjob-tO0YqMQDZHuElNjc1neGCrsk', created_at=1743708520, error=Error(code=None, message=None, param=None), fine_tuned_model=None, finished_at=None, hyperparameters=Hyperparameters(batch_size='auto', learning_rate_multiplier='auto', n_epochs=1), model='gpt-4o-mini-2024-07-18', object='fine_tuning.job', organization_id='org-AalSWqvkkoOsbtYdAVNBKdjL', result_files=[], seed=42, status='validating_files', trained_tokens=None, training_file='file-8QyMKQHRPekaJDjgZTh6eh', validation_file='file-8KEv5pCninPnppTBJmkG9C', estimated_finish=None, integrations=[FineTuningJobWandbIntegrationObject(type='wandb', wandb=FineTuningJobWandbIntegration(project='gpt-pricer', entity=None, name=None, tags=None, run_id='ftjob-tO0YqMQDZHuElNjc1neGCrsk'))], metadata=None, method=Method(dpo=None, supervised=MethodSupervised(hyperparameters=MethodSupervisedHyperparameters(batch_size='auto', learning_rate_multiplier='auto', n_epochs=1)), type='supervised'), user_provided_suffix='pricer')"
      ]
     },
     "execution_count": 13,
     "metadata": {},
     "output_type": "execute_result"
    }
   ],
   "source": [
    "# Run the fine tuning\n",
    "\n",
    "openai.fine_tuning.jobs.create(\n",
    "    training_file=train_file.id,\n",
    "    validation_file=validation_file.id,\n",
    "    model=\"gpt-4o-mini-2024-07-18\",\n",
    "    seed=42,\n",
    "    hyperparameters={\"n_epochs\": 1},\n",
    "    integrations = [wandb_integration],\n",
    "    suffix=\"pricer\"\n",
    ")"
   ]
  },
  {
   "cell_type": "code",
   "execution_count": 14,
   "id": "330e75f5-0208-4c74-8dd3-07bc06047b2e",
   "metadata": {},
   "outputs": [
    {
     "data": {
      "text/plain": [
       "'ftjob-tO0YqMQDZHuElNjc1neGCrsk'"
      ]
     },
     "execution_count": 14,
     "metadata": {},
     "output_type": "execute_result"
    }
   ],
   "source": [
    "job_id = openai.fine_tuning.jobs.list(limit=1).data[0].id\n",
    "job_id\n",
    "\n",
    "# Then check your wandb dashboard to view the run of this job ID"
   ]
  },
  {
   "cell_type": "code",
   "execution_count": 21,
   "id": "4a92dac5-e6d8-439c-b55e-507becb37a6c",
   "metadata": {},
   "outputs": [
    {
     "data": {
      "text/plain": [
       "[FineTuningJobEvent(id='ftevent-VrowhJtwinYoD6uJxZq2suFj', created_at=1743708623, level='info', message='Fine-tuning job started', object='fine_tuning.job.event', data=None, type='message'),\n",
       " FineTuningJobEvent(id='ftevent-nwxkqkAvZZamMIR4cJFqix1Z', created_at=1743708621, level='info', message='Files validated, moving job to queued state', object='fine_tuning.job.event', data={}, type='message')]"
      ]
     },
     "execution_count": 21,
     "metadata": {},
     "output_type": "execute_result"
    }
   ],
   "source": [
    "# Use this command to track the fine-tuning progress here\n",
    "openai.fine_tuning.jobs.list_events(fine_tuning_job_id=job_id, limit=2).data\n",
    "\n",
    "# You'll receive an email notification once fine-tuning is complete"
   ]
  },
  {
   "cell_type": "markdown",
   "id": "0a7af4be-0b55-4654-af7a-f47485babc52",
   "metadata": {},
   "source": [
    "## Step 3 : Test the fine tuned model"
   ]
  },
  {
   "cell_type": "code",
   "execution_count": 22,
   "id": "c8497eb8-49ee-4a05-9e51-fc1b4b2b41d4",
   "metadata": {},
   "outputs": [
    {
     "data": {
      "text/plain": [
       "'ft:gpt-4o-mini-2024-07-18:personal:pricer:BIKj9Ku8'"
      ]
     },
     "execution_count": 22,
     "metadata": {},
     "output_type": "execute_result"
    }
   ],
   "source": [
    "ft_model_name = openai.fine_tuning.jobs.retrieve(job_id).fine_tuned_model\n",
    "ft_model_name"
   ]
  },
  {
   "cell_type": "code",
   "execution_count": 26,
   "id": "ac6a89ef-f982-457a-bad7-bd84b6132a07",
   "metadata": {},
   "outputs": [],
   "source": [
    "def messages_for(item):\n",
    "    system_message = \"You estimate prices of items. Reply only with the price, no explanation\"\n",
    "    user_prompt = item.test_prompt().replace(\" to the nearest dollar\",\"\").replace(\"\\n\\nPrice is $\",\"\")\n",
    "    return [\n",
    "        {\"role\": \"system\", \"content\": system_message},\n",
    "        {\"role\": \"user\", \"content\": user_prompt},\n",
    "        {\"role\": \"assistant\", \"content\": \"Price is $\"}\n",
    "    ]\n",
    "\n",
    "def get_price(s):\n",
    "    s = s.replace('$','').replace(',','')\n",
    "    match = re.search(r\"[-+]?\\d*\\.\\d+|\\d+\", s)\n",
    "    return float(match.group()) if match else 0\n",
    "\n",
    "def gpt_ft(item):\n",
    "    response = openai.chat.completions.create(\n",
    "        model=ft_model_name, \n",
    "        messages=messages_for(item),\n",
    "        seed=42,\n",
    "        max_tokens=7\n",
    "    )\n",
    "    reply = response.choices[0].message.content\n",
    "    return get_price(reply)"
   ]
  },
  {
   "cell_type": "code",
   "execution_count": 27,
   "id": "93a93017-458c-4769-b81c-b2dad2af7552",
   "metadata": {},
   "outputs": [
    {
     "name": "stdout",
     "output_type": "stream",
     "text": [
      "327.34\n",
      "404.32\n"
     ]
    }
   ],
   "source": [
    "print(test[0].price)\n",
    "print(gpt_ft(test[0]))"
   ]
  },
  {
   "cell_type": "code",
   "execution_count": 29,
   "id": "0adf1500-9cc7-491a-9ea6-88932af85dca",
   "metadata": {},
   "outputs": [
    {
     "data": {
      "image/png": "[encoded data removed]",
      "text/plain": [
       "<Figure size 1500x600 with 1 Axes>"
      ]
     },
     "metadata": {},
     "output_type": "display_data"
    }
   ],
   "source": [
    "import helpers.testing\n",
    "importlib.reload(helpers.testing)\n",
    "\n",
    "from helpers.testing import Tester\n",
    "\n",
    "tester = Tester(gpt_ft, test[:100])\n",
    "tester.run()"
   ]
  },
  {
   "cell_type": "markdown",
   "id": "b99b9c72-2f93-4641-9163-ea5c117d0501",
   "metadata": {},
   "source": [
    "![](assets/model_performance_comparison.png)"
   ]
  },
  {
   "cell_type": "markdown",
   "id": "5487da30-e1a8-4db5-bf17-80bc4f109524",
   "metadata": {},
   "source": [
    "📉 Avrg error increased to 133, meaning the model actually performed worse than its zero-shot version (avrg error = 98)\n",
    "\n",
    "At first, this was disappointing — but in reality, it was an enriching experiment.\n",
    "We learned valuable techniques: data curation and cleaning, preparing data for fine-tuning, traditional ML workflows, evaluation metrics, and the complete fine-tuning pipeline for LLMs.\n",
    "\n",
    "So no regrets — just progress. 💡\n",
    "\n",
    "⚠️ **When Fine-Tuning Isn't Necessary**:\n",
    "\n",
    "For this specific task (price prediction from product descriptions), large pre-trained models like GPT-4o already perform well out of the box, thanks to:\n",
    "- Massive pretraining on diverse data\n",
    "- Strong generalization ability\n",
    "- Clear prompting capabilities\n",
    "\n",
    "👉 In such cases, a **well-crafted prompt** is often more effective and efficient than full fine-tuning.\n",
    "\n",
    "✅ **When Fine-Tuning Is Worth It (based on OpenAI’s own guidelines)**\n",
    "- Custom tone/style – e.g., mimicking a brand voice or writing like a specific author\n",
    "- More consistent output – e.g., always following a strict format\n",
    "- Fix prompt failures – e.g., when multi-step instructions get ignored\n",
    "- Handle edge cases – e.g., rare product types or weird inputs\n",
    "- Teach new tasks – e.g., estimating prices in a custom format no model has seen before"
   ]
  },
  {
   "cell_type": "markdown",
   "id": "439ecba2-b663-4943-91e6-41bd5ed5ddfc",
   "metadata": {},
   "source": [
    "# 🏁 Conclusion\n",
    "Fine-tuning didn’t boost GPT-4o Mini’s performance for this task — but **the journey was rich.**\n",
    "\n",
    "📚 We gained hands-on experience, deeper understanding, and clear insight:➡️ For some tasks, **prompting a strong frontier model is more effective than fine-tuning it.**\n",
    "\n",
    "💡 **Choose fine-tuning only when prompting hits a wall — not by default.**"
   ]
  }
 ],
 "metadata": {
  "kernelspec": {
   "display_name": "Python 3 (ipykernel)",
   "language": "python",
   "name": "python3"
  },
  "language_info": {
   "codemirror_mode": {
    "name": "ipython",
    "version": 3
   },
   "file_extension": ".py",
   "mimetype": "text/x-python",
   "name": "python",
   "nbconvert_exporter": "python",
   "pygments_lexer": "ipython3",
   "version": "3.11.11"
  }
 },
 "nbformat": 4,
 "nbformat_minor": 5
}
