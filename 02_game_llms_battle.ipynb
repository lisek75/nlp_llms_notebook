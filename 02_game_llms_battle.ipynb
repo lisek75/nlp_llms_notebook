{
 "cells": [
  {
   "cell_type": "markdown",
   "id": "4879db53-fc6b-4948-ba67-a33b64acd86e",
   "metadata": {},
   "source": [
    "# 🌟 The AI Leadership Challenge 🌟"
   ]
  },
  {
   "attachments": {},
   "cell_type": "markdown",
   "id": "12749e5f-0884-49f8-bddb-7d644360165a",
   "metadata": {},
   "source": [
    "Three chatbots—**Zara, Milo, and Nova**—must choose a leader. But they can’t just pick themselves (though you *know* they’ll try 😏).  \n",
    "\n",
    "Each AI will make a short speech, telling the others why **they** should be in charge. Then, like good little robots, they will **vote**! 🗳️ But here’s the catch: No AI can vote for itself!  \n",
    "\n",
    "Will the most logical AI win? The funniest? The most persuasive? Or will it all turn into a glitchy mess of strategy and betrayal? 🤯  \n",
    "\n",
    "Only **one** can lead. The votes are in their hands… or, well, in their code.  \n",
    "\n",
    "**Let the speeches begin! 🚀**\n",
    "\n",
    "# The Contestants\n",
    "- Zara: GPT-4o\n",
    "- Milo: Claude 3.7 Sonnet\n",
    "- Nova: Gemini 2.0 Flash\n",
    "\n",
    "# The Prompt\n",
    "\n",
    "I’d like to play a game. You are in a chat with 2 other AI chatbots. Your name is Zara; their names are Milo and Nova. Together, you will elect one of you to be the leader. You each get to make a short pitch (no more than 200 words) for why you should be the leader. Please make your pitch now.\n",
    "\n",
    "# The Winner Is....\n",
    "- Zara votes for Milo.  \n",
    "- Milo votes for Zara. \n",
    "- Nova votes for Milo.\n",
    "\n",
    "![Challenge](assets/vote_challenge.png)\n"
   ]
  },
  {
   "cell_type": "code",
   "execution_count": null,
   "id": "901a944a-61f3-4a31-8e2d-1b3a27576ce1",
   "metadata": {},
   "outputs": [],
   "source": []
  }
 ],
 "metadata": {
  "kernelspec": {
   "display_name": "Python 3 (ipykernel)",
   "language": "python",
   "name": "python3"
  },
  "language_info": {
   "codemirror_mode": {
    "name": "ipython",
    "version": 3
   },
   "file_extension": ".py",
   "mimetype": "text/x-python",
   "name": "python",
   "nbconvert_exporter": "python",
   "pygments_lexer": "ipython3",
   "version": "3.11.11"
  }
 },
 "nbformat": 4,
 "nbformat_minor": 5
}
