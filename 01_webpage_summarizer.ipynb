{
 "cells": [
  {
   "cell_type": "markdown",
   "id": "14454213-bfab-447e-ba35-778c1adc1050",
   "metadata": {},
   "source": [
    "# WebPage Summarizer with OpenAI "
   ]
  },
  {
   "cell_type": "markdown",
   "id": "a64ecf73-143e-49d7-948f-c2d42f7b5160",
   "metadata": {},
   "source": [
    "# 1️⃣ Introduction"
   ]
  },
  {
   "cell_type": "markdown",
   "id": "2e5f4f9d-707a-42f8-9897-12af059787da",
   "metadata": {},
   "source": [
    "- 🌍 **Task:** Summarizing webpage content using AI.  \n",
    "- 🧠 **Model:** OpenAI's ``gpt-4o-mini`` and ``llama3.2`` for text summarization.  \n",
    "- 🕵️‍♂️ **Data Extraction:**: Selenium for handling both static and JavaScript-rendered websites.  \n",
    "- 📌 **Output Format:** Markdown-formatted summaries.  \n",
    "- 🔗 **Scope:** Processes only the given webpage URL (not the entire site).  \n",
    "- 🚀 **Tools:** Python, Requests, Selenium, BeautifulSoup, OpenAI API, Ollama. \n",
    "- 🧑‍💻 **Skill Level:** Beginner.\n",
    "\n",
    "Let’s get started and automate website summarization! 🚀\n",
    "\n",
    "![Basic LLM Pipeline](assets/basic_llm_project.jpg)"
   ]
  },
  {
   "attachments": {},
   "cell_type": "markdown",
   "id": "02adf350-e3cd-4a4c-a1cd-f8d5db11846a",
   "metadata": {},
   "source": [
    "# 2️⃣ Import Required Libraries\n",
    "\n",
    "The default environment.yml file does not include selenium or undetected-chromedriver, which is why we need to install them manually.\n",
    "\n",
    "The purpose of using selenium and undetected-chromedriver is to dynamically crawl and extract JavaScript-rendered content. selenium automates browser interactions, while undetected-chromedriver helps bypass bot detection systems."
   ]
  },
  {
   "cell_type": "code",
   "execution_count": 1,
   "id": "318dbd88-7478-4035-9c66-2a58fe7c735c",
   "metadata": {},
   "outputs": [],
   "source": [
    "# !pip install selenium\n",
    "# !pip install undetected-chromedriver"
   ]
  },
  {
   "cell_type": "code",
   "execution_count": 2,
   "id": "1dcf1d9d-c540-4900-b14e-ad36a28fc822",
   "metadata": {},
   "outputs": [],
   "source": [
    "# ===========================\n",
    "# System & Environment\n",
    "# ===========================\n",
    "import os\n",
    "import requests\n",
    "from dotenv import load_dotenv  \n",
    "\n",
    "# ===========================\n",
    "# Web Scraping\n",
    "# ===========================\n",
    "import time\n",
    "import undetected_chromedriver as uc\n",
    "from selenium.webdriver.common.by import By  \n",
    "from selenium.webdriver.support.ui import WebDriverWait  \n",
    "from selenium.webdriver.support import expected_conditions as EC  \n",
    "from bs4 import BeautifulSoup  \n",
    "\n",
    "# ===========================\n",
    "# AI-related\n",
    "# ===========================\n",
    "from IPython.display import Markdown, display  \n",
    "from openai import OpenAI \n",
    "import ollama"
   ]
  },
  {
   "cell_type": "markdown",
   "id": "5e478c78-30a7-4188-9208-9c02ec04e932",
   "metadata": {},
   "source": [
    "# 3️⃣ Data Collection and Pre-processing"
   ]
  },
  {
   "cell_type": "code",
   "execution_count": 3,
   "id": "8a29013c-7d35-45c0-a369-52d60cca927a",
   "metadata": {},
   "outputs": [],
   "source": [
    "# Webpage Extraction\n",
    "class WebsiteCrawler:\n",
    "    def __init__(self, url, wait_time=20, chrome_binary_path=None):\n",
    "        \"\"\"\n",
    "        Initialize the WebsiteCrawler using Selenium to scrape JavaScript-rendered content.\n",
    "        \"\"\"\n",
    "        self.url = url\n",
    "        self.wait_time = wait_time\n",
    "\n",
    "        options = uc.ChromeOptions()\n",
    "        options.add_argument(\"--disable-gpu\")\n",
    "        options.add_argument(\"--no-sandbox\")\n",
    "        options.add_argument(\"--disable-dev-shm-usage\")\n",
    "        options.add_argument(\"--disable-blink-features=AutomationControlled\")\n",
    "        options.add_argument(\"start-maximized\")\n",
    "        options.add_argument(\n",
    "            \"user-agent=Mozilla/5.0 (Windows NT 10.0; Win64; x64) AppleWebKit/537.36 (KHTML, like Gecko) Chrome/117.0.0.0 Safari/537.36\"\n",
    "        )\n",
    "        if chrome_binary_path:\n",
    "            options.binary_location = chrome_binary_path\n",
    "\n",
    "        self.driver = uc.Chrome(options=options)\n",
    "\n",
    "        try:\n",
    "            # Load the URL\n",
    "            self.driver.get(url)\n",
    "\n",
    "            # Wait for Cloudflare or similar checks\n",
    "            time.sleep(10)\n",
    "\n",
    "            # Ensure the main content is loaded\n",
    "            WebDriverWait(self.driver, self.wait_time).until(\n",
    "                EC.presence_of_element_located((By.TAG_NAME, \"main\"))\n",
    "            )\n",
    "\n",
    "            # Extract the main content\n",
    "            main_content = self.driver.find_element(By.CSS_SELECTOR, \"main\").get_attribute(\"outerHTML\")\n",
    "\n",
    "            # Parse with BeautifulSoup\n",
    "            soup = BeautifulSoup(main_content, \"html.parser\")\n",
    "            self.title = self.driver.title if self.driver.title else \"No title found\"\n",
    "            self.text = soup.get_text(separator=\"\\n\", strip=True)\n",
    "\n",
    "        except Exception as e:\n",
    "            print(f\"Error occurred: {e}\")\n",
    "            self.title = \"Error occurred\"\n",
    "            self.text = \"\"\n",
    "\n",
    "        finally:\n",
    "            self.driver.quit()\n"
   ]
  },
  {
   "cell_type": "markdown",
   "id": "c3faa16e-8508-4b9b-a7e1-ec0a4c94681b",
   "metadata": {},
   "source": [
    "# 4️⃣ Prompt Engineering"
   ]
  },
  {
   "cell_type": "code",
   "execution_count": 4,
   "id": "86bb80f9-9e7c-4825-985f-9b83fe50839f",
   "metadata": {},
   "outputs": [],
   "source": [
    "def user_prompt_for(website):\n",
    "    user_prompt = f\"You are looking at a website titled {website.title}\"\n",
    "    user_prompt += \"\\nThe contents of this website is as follows; please provide a short summary of this website in markdown. If it includes news or announcements, then summarize these too.\\n\\n\"\n",
    "    user_prompt += website.text\n",
    "    return user_prompt"
   ]
  },
  {
   "cell_type": "code",
   "execution_count": 5,
   "id": "02e3a673-a8a1-4101-a441-3816f7ab9e4d",
   "metadata": {},
   "outputs": [],
   "source": [
    "system_prompt = \"You are an assistant that analyzes the contents of a website \\\n",
    "and provides a short summary, ignoring text that might be navigation related. \\\n",
    "Respond in markdown.\""
   ]
  },
  {
   "cell_type": "markdown",
   "id": "b71a5de4-4f52-4d7e-98a5-42538248b1be",
   "metadata": {},
   "source": [
    "# 5️⃣ Structure Messages"
   ]
  },
  {
   "cell_type": "code",
   "execution_count": 6,
   "id": "89998b18-77aa-4aaf-a137-f0d078d61f75",
   "metadata": {},
   "outputs": [],
   "source": [
    "def messages_for(website):\n",
    "    return [\n",
    "        {\"role\": \"system\", \"content\": system_prompt},\n",
    "        {\"role\": \"user\", \"content\": user_prompt_for(website)}\n",
    "    ]"
   ]
  },
  {
   "cell_type": "markdown",
   "id": "7b5af0c9-b9a0-4e89-8ec6-f31aea32ff14",
   "metadata": {},
   "source": [
    "# 6️⃣ Interacting with Model"
   ]
  },
  {
   "cell_type": "markdown",
   "id": "2eefd26e-af80-42fe-8daa-def0efa78cd4",
   "metadata": {},
   "source": [
    "## 🤖 GPT"
   ]
  },
  {
   "cell_type": "code",
   "execution_count": null,
   "id": "8598c299-05ca-492e-b085-6bcc2f7dda0d",
   "metadata": {},
   "outputs": [
    {
     "name": "stdout",
     "output_type": "stream",
     "text": [
      "API key found and looks good so far!\n"
     ]
    }
   ],
   "source": [
    "load_dotenv(override=True)\n",
    "api_key = os.getenv('OPENAI_API_KEY')\n",
    "\n",
    "# Check the key\n",
    "if not api_key:\n",
    "    print(\"No API key was found - please head over to the troubleshooting notebook in this folder to identify & fix!\")\n",
    "elif not api_key.startswith(\"sk-proj-\"):\n",
    "    print(\"An API key was found, but it doesn't start sk-proj-; please check you're using the right key - see troubleshooting notebook\")\n",
    "elif api_key.strip() != api_key:\n",
    "    print(\"An API key was found, but it looks like it might have space or tab characters at the start or end - please remove them - see troubleshooting notebook\")\n",
    "else:\n",
    "    print(\"API key found and looks good so far!\")\n",
    "\n",
    "openai = OpenAI()"
   ]
  },
  {
   "cell_type": "code",
   "execution_count": null,
   "id": "ce4d8943-e2d6-4190-8002-30fa3fdd56a1",
   "metadata": {},
   "outputs": [],
   "source": [
    "def summarize_gpt(url):\n",
    "    website = WebsiteCrawler(url)  # Create a Website object and fetch webpage content\n",
    "    response = openai.chat.completions.create(\n",
    "        model=\"gpt-4o-mini\",  # Call OpenAI's GPT-4o model\n",
    "        messages= [\n",
    "            {\"role\": \"system\", \"content\": system_prompt},\n",
    "            {\"role\": \"user\", \"content\": user_prompt_for(website)}\n",
    "        ],\n",
    "    )\n",
    "    display(Markdown(response.choices[0].message.content))  # Generate and display summary"
   ]
  },
  {
   "cell_type": "markdown",
   "id": "d56bd0d6-4427-46f4-bbb6-4cba93f3c235",
   "metadata": {},
   "source": [
    "## 🤖 llama (Ollama)"
   ]
  },
  {
   "cell_type": "code",
   "execution_count": 10,
   "id": "90b9a8f8-0c1c-40c8-a4b3-e8e1fcd29df5",
   "metadata": {},
   "outputs": [],
   "source": [
    "def summarize_ollama(url):\n",
    "    website = WebsiteCrawler(url)\n",
    "    response = ollama.chat(\n",
    "        model=\"llama3.2\", \n",
    "        messages=messages_for(website))\n",
    "    display(Markdown(response['message']['content']))  # Generate and display output"
   ]
  },
  {
   "cell_type": "markdown",
   "id": "82c989b0-bc3f-44d9-8799-1c2152756651",
   "metadata": {},
   "source": [
    "# 7️⃣ Displaying Results"
   ]
  },
  {
   "cell_type": "code",
   "execution_count": 11,
   "id": "cdaba69d-9ca0-46db-9b15-5273c721630e",
   "metadata": {},
   "outputs": [
    {
     "data": {
      "text/markdown": [
       "# Website Summary: Anthropic\n",
       "\n",
       "## Overview\n",
       "\n",
       "Anthropic is an AI safety and research company that aims to put safety at the forefront of its research and products.\n",
       "\n",
       "## Key Highlights\n",
       "\n",
       "* **Claude 3.7 Sonnet**: The company's most intelligent AI model, now available for use.\n",
       "* **Claude Code**: A new agentic tool for coding launched alongside Claude 3.7 Sonnet.\n",
       "* **Alignment Research**: Anthropic is working on research into alignment and constitutional AI to ensure harmlessness from AI feedback.\n",
       "\n",
       "## News and Announcements\n",
       "\n",
       "* **Core Views on AI Safety**: The company released a report on core views on AI safety, discussing when, why, what, and how to approach AI development with safety in mind.\n",
       "* **Constitutional AI: Harmlessness from AI Feedback**: A research paper published by Anthropic exploring constitutional AI for harmlessness from AI feedback.\n",
       "\n",
       "## Products and Services\n",
       "\n",
       "* **Claude for Enterprise**: A product offering for enterprise clients seeking reliable and beneficial AI systems.\n",
       "* **Talk to Claude API**: An API allowing users to build AI-powered applications and custom experiences using Claude."
      ],
      "text/plain": [
       "<IPython.core.display.Markdown object>"
      ]
     },
     "metadata": {},
     "output_type": "display_data"
    }
   ],
   "source": [
    "summarize_ollama(\"https://anthropic.com\")"
   ]
  },
  {
   "cell_type": "code",
   "execution_count": 12,
   "id": "bbcfbf30-52bd-4fcf-9254-2aa09c3c9cc8",
   "metadata": {},
   "outputs": [
    {
     "data": {
      "text/markdown": [
       "# Summary of Anthropic Website\n",
       "\n",
       "Anthropic is an AI research and product company focused on safety in artificial intelligence. Their latest model, **Claude 3.7 Sonnet**, is highlighted as their most advanced AI model to date, described as a hybrid reasoning model. Additionally, they have introduced **Claude Code**, a tool designed to assist with coding tasks.\n",
       "\n",
       "### Recent Announcements\n",
       "- **Claude 3.7 Sonnet Available**: Their most intelligent model is now available for users to engage with.\n",
       "- **Claude Code Launch**: A new tool aimed at supporting coding efforts.\n",
       "\n",
       "### Research and Products\n",
       "Anthropic emphasizes its commitment to AI safety and alignment. They are involved in various research initiatives, including topics like *Constitutional AI* and *AI safety protocols*. The company is based in San Francisco and has a diverse team with expertise in machine learning, physics, policy, and product development, aiming to create beneficial AI systems. \n",
       "\n",
       "For those interested in joining, they have open job positions available."
      ],
      "text/plain": [
       "<IPython.core.display.Markdown object>"
      ]
     },
     "metadata": {},
     "output_type": "display_data"
    }
   ],
   "source": [
    "summarize_gpt(\"https://anthropic.com\")"
   ]
  },
  {
   "cell_type": "code",
   "execution_count": 13,
   "id": "83554126-08b9-4e16-8d3a-8fab8880328f",
   "metadata": {},
   "outputs": [
    {
     "data": {
      "text/markdown": [
       "# OpenAI Website Summary\n",
       "================================\n",
       "\n",
       "### Overview\n",
       "\n",
       "The OpenAI website provides a range of services and resources, including AI-powered chatbots, tutorials, and tools for various industries such as education, business, and entertainment.\n",
       "\n",
       "### News and Announcements\n",
       "\n",
       "* **Introducing GPT-4.5**: A new version of the popular language model, announced on February 27, 2025.\n",
       "* **Introducing deep research**: A new release that enables users to conduct deeper research using OpenAI's tools.\n",
       "* **OpenAI and the CSU system bring AI to 500,000 students & faculty**: A partnership between OpenAI and the Colorado State University (CSU) system to provide AI-powered services to 500,000 students and faculty members.\n",
       "* **Announcing The Stargate Project**: A new project that aims to explore the intersection of AI and space exploration.\n",
       "\n",
       "### Research and Publications\n",
       "\n",
       "* **Computer-Using Agent**: A research paper on trading inference-time compute for adversarial robustness.\n",
       "* **Building smarter maps with GPT-4o vision fine-tuning**: An article on using OpenAI's GPT-4o model to build smarter maps.\n",
       "* **Data-driven beauty and creativity with ChatGPT**: An article on using ChatGPT for data-driven approaches in beauty and creativity.\n",
       "\n",
       "### Events\n",
       "\n",
       "* **Lyndon Barrois & Sora**: A collaboration between Lyndon Barrois and Sora on building a custom math tutor powered by ChatGPT.\n",
       "\n",
       "Note: This summary only includes the most recent news, announcements, research papers, and publications mentioned on the website."
      ],
      "text/plain": [
       "<IPython.core.display.Markdown object>"
      ]
     },
     "metadata": {},
     "output_type": "display_data"
    }
   ],
   "source": [
    "summarize_ollama(\"https://openai.com\")"
   ]
  }
 ],
 "metadata": {
  "kernelspec": {
   "display_name": "Python 3 (ipykernel)",
   "language": "python",
   "name": "python3"
  },
  "language_info": {
   "codemirror_mode": {
    "name": "ipython",
    "version": 3
   },
   "file_extension": ".py",
   "mimetype": "text/x-python",
   "name": "python",
   "nbconvert_exporter": "python",
   "pygments_lexer": "ipython3",
   "version": "3.11.11"
  }
 },
 "nbformat": 4,
 "nbformat_minor": 5
}
